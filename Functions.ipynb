{
  "nbformat": 4,
  "nbformat_minor": 0,
  "metadata": {
    "colab": {
      "provenance": []
    },
    "kernelspec": {
      "name": "python3",
      "display_name": "Python 3"
    },
    "language_info": {
      "name": "python"
    }
  },
  "cells": [
    {
      "cell_type": "code",
      "execution_count": null,
      "metadata": {
        "colab": {
          "base_uri": "https://localhost:8080/"
        },
        "id": "oGkKDIXahzfZ",
        "outputId": "26ad4705-4a22-400f-9d5e-363382d4b938"
      },
      "outputs": [
        {
          "output_type": "stream",
          "name": "stdout",
          "text": [
            "12\n"
          ]
        }
      ],
      "source": [
        "#1. . Write a Python function that takes a list of numbers as input and returns the sum of all even numbers in\n",
        "#the list.\n",
        "def sum_even(numbers): #function defin with parameter\n",
        "    return sum(num for num in numbers if num % 2 == 0)\n",
        "numbers = [1, 2, 3, 4, 5, 6] # these are list of numbers\n",
        "result = sum_even(numbers)\n",
        "print(result)\n"
      ]
    },
    {
      "cell_type": "code",
      "source": [
        "#2. Create a Python function that accepts a string and returns the reverse of that string.\n",
        "\n",
        "def reverse_name(s):\n",
        "    return s[::-1]\n",
        "\n",
        "actual_string = input(\"Enter a string: \")\n",
        "result = reverse_name(actual_string)\n",
        "print(\"reverse string\" + result)\n"
      ],
      "metadata": {
        "colab": {
          "base_uri": "https://localhost:8080/"
        },
        "id": "Wwd9oA-viuXR",
        "outputId": "eb02f977-fe0b-4afe-a10a-bc1899dd4450"
      },
      "execution_count": null,
      "outputs": [
        {
          "output_type": "stream",
          "name": "stdout",
          "text": [
            "Enter a string: rahul\n",
            "The reverse of the string is: luhar\n"
          ]
        }
      ]
    },
    {
      "cell_type": "code",
      "source": [
        "#3 Implement a Python function that takes a list of integers and returns a new list containing the squares of each number.\n",
        "def square_numb(numbers):\n",
        "    squares = []  # Create an empty list to store the squares\n",
        "    for num in numbers:\n",
        "        squares.append(num ** 2)  # Append the square of each number to the list\n",
        "    return squares\n",
        "numbers = [1, 2, 3, 4, 5]\n",
        "result = square_numb(numbers) #store in a new variable result\n",
        "print(result)\n"
      ],
      "metadata": {
        "colab": {
          "base_uri": "https://localhost:8080/"
        },
        "id": "pBn9xduZkh5s",
        "outputId": "a3ff07a5-055d-4d91-eb40-8a3671cb3b98"
      },
      "execution_count": null,
      "outputs": [
        {
          "output_type": "stream",
          "name": "stdout",
          "text": [
            "[1, 4, 9, 16, 25]\n"
          ]
        }
      ]
    },
    {
      "cell_type": "code",
      "source": [
        "# 4. Write a Python function that checks if a given number is prime or not from 1 to 200.\n",
        "def is_prime(num):\n",
        "    if num < 2:\n",
        "        return False  # Numbers less than 2 are not prime\n",
        "    for i in range(2, num):\n",
        "        if num % i == 0:\n",
        "            return False  # If divisible by any number other than 1 and itself, it's not prime\n",
        "    return True  # If no divisors found, it's prime    This code is to ensure that if the modulous is zero and the number is less than one we are not entertainoing it as prime no.\n",
        "\n",
        "# This code prints the prime number\n",
        "for num in range(1, 201):\n",
        "    if is_prime(num):\n",
        "        print(num, \"is prime\")\n",
        "\n"
      ],
      "metadata": {
        "colab": {
          "base_uri": "https://localhost:8080/"
        },
        "id": "Dl_19rM5nHqt",
        "outputId": "7826e12f-215e-45ae-a8da-a2a4eb1c7fc1"
      },
      "execution_count": null,
      "outputs": [
        {
          "output_type": "stream",
          "name": "stdout",
          "text": [
            "2 is prime\n",
            "3 is prime\n",
            "5 is prime\n",
            "7 is prime\n",
            "11 is prime\n",
            "13 is prime\n",
            "17 is prime\n",
            "19 is prime\n",
            "23 is prime\n",
            "29 is prime\n",
            "31 is prime\n",
            "37 is prime\n",
            "41 is prime\n",
            "43 is prime\n",
            "47 is prime\n",
            "53 is prime\n",
            "59 is prime\n",
            "61 is prime\n",
            "67 is prime\n",
            "71 is prime\n",
            "73 is prime\n",
            "79 is prime\n",
            "83 is prime\n",
            "89 is prime\n",
            "97 is prime\n",
            "101 is prime\n",
            "103 is prime\n",
            "107 is prime\n",
            "109 is prime\n",
            "113 is prime\n",
            "127 is prime\n",
            "131 is prime\n",
            "137 is prime\n",
            "139 is prime\n",
            "149 is prime\n",
            "151 is prime\n",
            "157 is prime\n",
            "163 is prime\n",
            "167 is prime\n",
            "173 is prime\n",
            "179 is prime\n",
            "181 is prime\n",
            "191 is prime\n",
            "193 is prime\n",
            "197 is prime\n",
            "199 is prime\n"
          ]
        }
      ]
    },
    {
      "cell_type": "code",
      "source": [
        "# 5. Create an iterator class in Python that generates the Fibonacci sequence up to a specified number of terms.\n",
        "class FibonacciIterator:\n",
        "    def __init__(self, terms):\n",
        "        self.terms, self.a, self.b = terms, 0, 1\n",
        "\n",
        "    def __iter__(self):\n",
        "        return self\n",
        "\n",
        "    def __next__(self):\n",
        "        if self.terms <= 0:\n",
        "            raise StopIteration\n",
        "        self.terms -= 1\n",
        "        self.a, self.b = self.b, self.a + self.b\n",
        "        return self.a - self.b + self.a  # Return 0 for the first term\n",
        "\n",
        "for num in FibonacciIterator(10):\n",
        "    print(num)\n"
      ],
      "metadata": {
        "id": "p0_8QWLCyNMy",
        "colab": {
          "base_uri": "https://localhost:8080/"
        },
        "outputId": "7c27e2cd-eb2a-48f5-b46c-26611d0adfe4"
      },
      "execution_count": 10,
      "outputs": [
        {
          "output_type": "stream",
          "name": "stdout",
          "text": [
            "1\n",
            "0\n",
            "1\n",
            "1\n",
            "2\n",
            "3\n",
            "5\n",
            "8\n",
            "13\n",
            "21\n"
          ]
        }
      ]
    },
    {
      "cell_type": "code",
      "source": [
        "#Question 6.\n",
        "def powers_of_two(max_exponent): #defining generator function\n",
        "    for i in range(max_exponent + 1): #t takes max_exponent as an argument, which specifies the highest exponent.\n",
        "        yield 2 ** i #Calculates 2 ** i (2 raised to the power i) and yields it one at a time.\n",
        "\n",
        "for power in powers_of_two(5):\n",
        "    print(power)\n"
      ],
      "metadata": {
        "id": "j60lF10NyVDe",
        "colab": {
          "base_uri": "https://localhost:8080/"
        },
        "outputId": "8801b574-b5d3-41cb-b5a4-c81b25f581cf"
      },
      "execution_count": 11,
      "outputs": [
        {
          "output_type": "stream",
          "name": "stdout",
          "text": [
            "1\n",
            "2\n",
            "4\n",
            "8\n",
            "16\n",
            "32\n"
          ]
        }
      ]
    },
    {
      "cell_type": "code",
      "source": [
        "#Question 7 Implement a generator function that reads a file line by line and yields each line as a string.\n",
        "def my_generator():\n",
        "  yield 1\n",
        "  yield 2\n",
        "  yield 3\n",
        "# Using the generator\n",
        "for number in my_generator():\n",
        "  print(number)"
      ],
      "metadata": {
        "id": "n5WBNNGHyUx7",
        "colab": {
          "base_uri": "https://localhost:8080/"
        },
        "outputId": "cab7fcfb-a486-4b81-bccf-c434ebea4d10"
      },
      "execution_count": 15,
      "outputs": [
        {
          "output_type": "stream",
          "name": "stdout",
          "text": [
            "1\n",
            "2\n",
            "3\n"
          ]
        }
      ]
    },
    {
      "cell_type": "code",
      "source": [
        "#Question 8   Use a lambda function in Python to sort a list of tuples based on the second element of each tuple.\n",
        "my_list = [(1, 3), (4, 1), (2, 5), (3, 2)]\n",
        "sorted_list = sorted(my_list, key=lambda x: x[1])\n",
        "print(sorted_list)"
      ],
      "metadata": {
        "id": "ZVK1OF-7yUfT",
        "colab": {
          "base_uri": "https://localhost:8080/"
        },
        "outputId": "6c336225-1235-495d-cf07-b42cc7cd86d9"
      },
      "execution_count": 16,
      "outputs": [
        {
          "output_type": "stream",
          "name": "stdout",
          "text": [
            "[(4, 1), (3, 2), (1, 3), (2, 5)]\n"
          ]
        }
      ]
    },
    {
      "cell_type": "code",
      "source": [
        "# Question 9 # List of temperatures in Celsius\n",
        "celsius_temps = [0, 20, 30, 40, 100]\n",
        "\n",
        "# Using map() to convert Celsius to Fahrenheit\n",
        "fahrenheit_temp = list(map(lambda c: (c * 9/5) + 32, celsius_temps))\n",
        "\n",
        "# Output the result\n",
        "print(fahrenheit_temp)\n"
      ],
      "metadata": {
        "id": "G6yKvSj_yUF8",
        "colab": {
          "base_uri": "https://localhost:8080/"
        },
        "outputId": "dcd0c065-428a-4549-d804-b2e63b98dc03"
      },
      "execution_count": 18,
      "outputs": [
        {
          "output_type": "stream",
          "name": "stdout",
          "text": [
            "[32.0, 68.0, 86.0, 104.0, 212.0]\n"
          ]
        }
      ]
    },
    {
      "cell_type": "code",
      "source": [
        "# Question 10 10. Create a Python program that uses `filter()` to remove all the vowels from a given string.\n",
        "# Given string\n",
        "input_string = \"rahul\"\n",
        "\n",
        "# Using filter() to remove vowels\n",
        "filtered_string = ''.join(filter(lambda x: x.lower() not in 'aeiou', input_string))\n",
        "\n",
        "# Output the result\n",
        "print(filtered_string)\n"
      ],
      "metadata": {
        "id": "Y_qviw50yTrg",
        "colab": {
          "base_uri": "https://localhost:8080/"
        },
        "outputId": "1de2b984-0e64-4c8a-9db3-030f7acb25f9"
      },
      "execution_count": 19,
      "outputs": [
        {
          "output_type": "stream",
          "name": "stdout",
          "text": [
            "rhl\n"
          ]
        }
      ]
    },
    {
      "cell_type": "code",
      "source": [],
      "metadata": {
        "id": "OKe7e-BSvtes"
      },
      "execution_count": null,
      "outputs": []
    },
    {
      "cell_type": "markdown",
      "source": [],
      "metadata": {
        "id": "Ltx4MD0iyLHS"
      }
    },
    {
      "cell_type": "code",
      "source": [],
      "metadata": {
        "id": "rnZj91kSyLhG"
      },
      "execution_count": null,
      "outputs": []
    },
    {
      "cell_type": "markdown",
      "source": [
        "1. What is the difference between a function and a method in Python?\n",
        "\n",
        "\n",
        "Ans: Function is a block of usable code that can be executed to perform certain operation. Independent of any object  and can be called directly by the functions name.\n",
        "\n",
        " A method is a function that is part of an object.\n",
        " It is defined inside a class and works with the data of that object. We need an object or class to call the method."
      ],
      "metadata": {
        "id": "XkeqWHPWyiDy"
      }
    },
    {
      "cell_type": "markdown",
      "source": [],
      "metadata": {
        "id": "hpjDtCEqydNQ"
      }
    },
    {
      "cell_type": "markdown",
      "source": [
        "2  Explain the concept of function arguments and parameters in Python.\n",
        "\n",
        "Ans: Parameters are the placeholders or the variables defined in a function's declaration that specify what information the function needs. It provides the input that the function expects when it is called.\n",
        "\n",
        "Arguments are the actual values you pass to a function when you call it.\n",
        "\n",
        "print(\"rahul\")  # \"rahul\" is the argument\n",
        "\n",
        "def greet(name):  # 'name' is a parameter\n",
        "\n",
        "    return f\"Hello, {name}!\"\n"
      ],
      "metadata": {
        "id": "C2nm9e7cylNf"
      }
    },
    {
      "cell_type": "markdown",
      "source": [],
      "metadata": {
        "id": "ClzYdhCi4vtl"
      }
    },
    {
      "cell_type": "markdown",
      "source": [
        "3. What are the different ways to define and call a function in Python?\n",
        "\n",
        "\n",
        "Ans: a. In regular functions,it performs  a specific task and can take arguments and return values.\n",
        "\n",
        "\n",
        "def new_func(name):  # 'name' is a parameter\n",
        "    return f\"Hello, {name}!\n",
        "\n",
        "print(new_func(\"Alice\"))\n",
        "#calling the function\n",
        "\n",
        "\n",
        "b. We have  Functions with Default Arguments.\n",
        "def greet(name=\"Guest\"): #Argument here inside the bracket\n",
        "    return f\"Hello, {name}!\"\n",
        "\n",
        "\n",
        "print(greet())  # Output: Hello, Guest!\n",
        " # Calling the function\n",
        "\n",
        "c. Functions that accept the vareiuable number of argument using *\n",
        "def sum_all(*numbers):\n",
        "#used asterix to pass multiple argument\n",
        "    return sum(numbers)\n",
        "\n",
        "# Calling the function\n",
        "print(sum_all(1, 2, 3, 4))  # Output: 10\n",
        "\n",
        "# Lambda Functions single expression\n",
        "my_square = lambda x: x ** 2\n",
        "\n",
        "# Calling the function\n",
        "print(my_square(5))  # Output: 25\n",
        "\n",
        "\n",
        "d. A recursive function calls itself directly or indirectly to solve a problem by breaking it down into simpler and more manageable parts\n",
        "def factorial(n):\n",
        "    if n == 1:\n",
        "        return 1\n",
        "    return n * factorial(n - 1)\n",
        "# Calling the function\n",
        "print(factorial(5))  # Output: 120\n",
        "\n",
        "e. Functions defined inside a class and associated with an object (or the class itself).\n",
        "class Greeter:\n",
        "\n",
        "    def greet(self, name):\n",
        "        return f\"Hello, {name}!\"\n",
        "g = Greeter()\n",
        "print(g.greet(\"Alice\"))\n",
        " # Output: Hello, Alice!\n",
        "\n",
        "f. Functions defined inside other functions these  are called nested function.\n",
        "def outer_function(x):\n",
        "    def inner_function(y):\n",
        "        return y + 1\n",
        "    return inner_function(x) + 2\n",
        "\n",
        "result = outer_function(5)\n",
        "print(result)\n",
        "\n",
        "G. A generator function in Python is a special type of function that returns an iterator. Instead of using return to send a value back to the caller, a generator uses the yield keyword.\n",
        "def square_numbers():\n",
        "\n",
        "    for i in range(1, 6):\n",
        "        yield i * i\n",
        "squares = square_numbers() # Create a generator object\n",
        "for square in squares:\n",
        "\n",
        "    print(square) # calling\n",
        "\n",
        "\n"
      ],
      "metadata": {
        "id": "2zdE29er5HSD"
      }
    },
    {
      "cell_type": "markdown",
      "source": [
        " 4. What is the purpose of the `return` statement in a Python function?\n",
        "\n",
        " Ans: The purpose of using return is that it helps in terminating the function once it encounters ‘return’ also The return statement makes the function give back a value to whoever called it and ends the function.\n"
      ],
      "metadata": {
        "id": "M7EDkiPiQhq_"
      }
    },
    {
      "cell_type": "code",
      "source": [
        "5."
      ],
      "metadata": {
        "id": "mb-vrMeKRFBR"
      },
      "execution_count": null,
      "outputs": []
    },
    {
      "cell_type": "markdown",
      "source": [
        "\n",
        "5. What are iterators in Python and how do they differ from iterables?\n",
        "    \n",
        "    ANS: iterable is an object (like a list or string) that you can loop over with a for loop. However, iterator is an object that keeps track of where you are in the iterable and lets you get one item at a time using< next(variable)>\n",
        "\n"
      ],
      "metadata": {
        "id": "a2BOKUs0RNBL"
      }
    },
    {
      "cell_type": "code",
      "source": [],
      "metadata": {
        "id": "GzG5612jRtd3"
      },
      "execution_count": null,
      "outputs": []
    },
    {
      "cell_type": "markdown",
      "source": [
        "6. Explain the concept of generators in Python and how they are defined.\n",
        "   \n",
        "   \n",
        "ANS: Generator is a type of function That allows you to yield series of values step by step or One at a time. The values are generated only when needed there by it helps in Data more efficiently.\n",
        "\n",
        "When a generator function is called, it returns generator object  that can be used one at a time to retrieve objects using <next()> . When the yield is executed, the state of the generator is saved, and it can continue from where it left off when next() is called again.\n",
        "\n",
        "name = “rahul”\n",
        "iter(name) #iteerator object\n",
        "next(name)\n"
      ],
      "metadata": {
        "id": "A30JYywWRuiG"
      }
    },
    {
      "cell_type": "code",
      "source": [],
      "metadata": {
        "id": "VntW0pb3SN3x"
      },
      "execution_count": null,
      "outputs": []
    },
    {
      "cell_type": "markdown",
      "source": [
        "7.  What are the advantages of using generators over regular functions?  \n",
        "Ans: Following are the advantages of using generators:\n",
        "Generator are memory efficient. For instance if you use for loop all the elements are iterated and printed. While generators produc ethe value one at a time.\n",
        "Since they compute the value only when needed, it avoids unenccesary calculations.\n",
        "As generator generates values on-demand, they can generate an endless stream of values without running out of memory.\n",
        "generators can make the code simpler and more readable for iternating on large datasets.\n"
      ],
      "metadata": {
        "id": "wQpV7pHdSVCZ"
      }
    },
    {
      "cell_type": "code",
      "source": [],
      "metadata": {
        "id": "UFt5NH0rS8I9"
      },
      "execution_count": null,
      "outputs": []
    },
    {
      "cell_type": "markdown",
      "source": [
        " 8. What is a lambda function in Python and when is it typically used?\n",
        "\n",
        "Ans: A lambda is a function without name or an anonymous function. Lambdas are are used for small operations that can be written in a single line.\n"
      ],
      "metadata": {
        "id": "1Isjb3aOS_ye"
      }
    },
    {
      "cell_type": "markdown",
      "source": [
        "9. Explain the purpose and usage of the `map()` function in Python.\n",
        "\n",
        "\n",
        "Ans: Map function is a function which is applied to given function on every item in an iterable like list or tuple and returns a map object that is an iterator.\n",
        "numbers = [1, 2, 3, 4, 5]\n",
        "\n",
        "# Using lambda inside map to add 2 to each number\n",
        "result = map(lambda x: x + 2, numbers)\n",
        "\n",
        "# Convert the result to a list and print it\n",
        "print(list(result))  # Output: [3, 4, 5, 6, 7]\n"
      ],
      "metadata": {
        "id": "FrOHsTn9TK62"
      }
    },
    {
      "cell_type": "markdown",
      "source": [
        "10. What is the difference between `map()`, `reduce()`, and `filter()` functions in Python?\n",
        "\n",
        "\n",
        "ANS:The map function applies a given function to each item in an iterable and returns a new iterable with the results\n",
        "Filter function applies a function that filters elements based on a condition and returns only those items that satisfy the condition\n",
        "Reduce function applies a binary function (a function that takes two arguments) cumulatively to the items in an iterable, from left to right, so as to reduce the iterable to a single value.\n"
      ],
      "metadata": {
        "id": "eEQ1fd8bTdrv"
      }
    },
    {
      "cell_type": "code",
      "source": [],
      "metadata": {
        "id": "M-XtX2VfTlBU"
      },
      "execution_count": null,
      "outputs": []
    }
  ]
}